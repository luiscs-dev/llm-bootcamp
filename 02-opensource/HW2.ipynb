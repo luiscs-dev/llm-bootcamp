{
 "cells": [
  {
   "cell_type": "markdown",
   "id": "9ce3164c-5265-4045-8ca0-d6e554c5ea14",
   "metadata": {},
   "source": [
    "# Q1. Running Ollama with Docker"
   ]
  },
  {
   "cell_type": "code",
   "execution_count": null,
   "id": "c24e2aef-c8ef-4910-983c-bcba8a1928f4",
   "metadata": {},
   "outputs": [],
   "source": [
    "ollama -v\n",
    "\n",
    "Output: ollama version is 0.1.46"
   ]
  },
  {
   "cell_type": "markdown",
   "id": "7424e075-12ae-4bd8-8a7f-2d899606e682",
   "metadata": {},
   "source": [
    "# Question 2. Downloading an LLM"
   ]
  },
  {
   "cell_type": "code",
   "execution_count": 72,
   "id": "8c252323-ffe8-4f3c-902e-10290f380f75",
   "metadata": {},
   "outputs": [],
   "source": [
    "cd /root/.ollama/models/manifests/registry.ollama.ai/library\n",
    "\n",
    "ls\n",
    "gemma\n",
    "\n",
    "cat gemma/2b\n",
    "\n",
    "Output:\n",
    "\n",
    "{\"schemaVersion\":2,\"mediaType\":\"application/vnd.docker.distribution.manifest.v2+json\",\"config\":{\"mediaType\":\"application/vnd.docker.container.image.v1+json\",\"digest\":\"sha256:887433b89a901c156f7e6944442f3c9e57f3c55d6ed52042cbb7303aea994290\",\"size\":483},\"layers\":[{\"mediaType\":\"application/vnd.ollama.image.model\",\"digest\":\"sha256:c1864a5eb19305c40519da12cc543519e48a0697ecd30e15d5ac228644957d12\",\"size\":1678447520},{\"mediaType\":\"application/vnd.ollama.image.license\",\"digest\":\"sha256:097a36493f718248845233af1d3fefe7a303f864fae13bc31a3a9704229378ca\",\"size\":8433},{\"mediaType\":\"application/vnd.ollama.image.template\",\"digest\":\"sha256:109037bec39c0becc8221222ae23557559bc594290945a2c4221ab4f303b8871\",\"size\":136},{\"mediaType\":\"application/vnd.ollama.image.params\",\"digest\":\"sha256:22a838ceb7fb22755a3b0ae9b4eadde629d19be1f651f73efb8c6b4e2cd0eea0\",\"size\":84}]}"
   ]
  },
  {
   "cell_type": "markdown",
   "id": "7814acde-fa60-4f4b-8b71-e290dc8ec9db",
   "metadata": {},
   "source": [
    "# Question 3. Running the LLM"
   ]
  },
  {
   "cell_type": "code",
   "execution_count": 79,
   "id": "b640d406-8563-4598-891b-134ab679d46d",
   "metadata": {},
   "outputs": [],
   "source": [
    "ollama run gemma:2b\n",
    "\n",
    "10 * 10\n",
    "\n",
    "Output: \n",
    "Sure, here is the answer to your question:\n",
    "\n",
    "10 * 10 = 100.\n"
   ]
  },
  {
   "cell_type": "markdown",
   "id": "c3429df2-5e22-41ba-b170-e030c660bcf8",
   "metadata": {},
   "source": [
    "# Question 4. Donwloading the weights"
   ]
  },
  {
   "cell_type": "code",
   "execution_count": 10,
   "id": "8e8257f4-b3be-453a-8335-46f63d82e0eb",
   "metadata": {},
   "outputs": [],
   "source": [
    "!mkdir ollama_files"
   ]
  },
  {
   "cell_type": "code",
   "execution_count": null,
   "id": "0f25cc19-f540-43ad-8088-a50d8ddab9c0",
   "metadata": {},
   "outputs": [],
   "source": [
    "docker run -it \\\n",
    "    --rm \\\n",
    "    -v ./ollama_files:/root/.ollama \\\n",
    "    -p 11434:11434 \\\n",
    "    --name ollama \\\n",
    "    ollama/ollama\n",
    "\n",
    "docker exec -it ollama ollama pull gemma:2b\n",
    "\n",
    "cd ollama_files\n",
    "\n",
    "du -h .\n",
    "1.6G    ./models/blobs\n",
    "8.0K    ./models/manifests/registry.ollama.ai/library/gemma\n",
    "12K     ./models/manifests/registry.ollama.ai/library\n",
    "16K     ./models/manifests/registry.ollama.ai\n",
    "20K     ./models/manifests\n",
    "1.6G    ./models\n",
    "1.6G    ."
   ]
  },
  {
   "cell_type": "markdown",
   "id": "3db4f135-d72f-4c52-bcc3-6e94c31876be",
   "metadata": {},
   "source": [
    "# Question 5. Adding the weights"
   ]
  },
  {
   "cell_type": "code",
   "execution_count": 87,
   "id": "d99d9585-65d5-4985-b03e-1ca06e76797d",
   "metadata": {},
   "outputs": [],
   "source": [
    "FROM ollama/ollama\n",
    "\n",
    "COPY ollama_files/ /root/.ollama/"
   ]
  },
  {
   "cell_type": "code",
   "execution_count": 90,
   "id": "31f99f73-5b0a-4bb5-9bdf-fc1a3655129a",
   "metadata": {},
   "outputs": [
    {
     "data": {
      "text/plain": [
       "323"
      ]
     },
     "execution_count": 90,
     "metadata": {},
     "output_type": "execute_result"
    }
   ],
   "source": [
    "docker build -t ollama-gemma2b .\n",
    "\n",
    "docker run -it --rm -p 11434:11434 ollama-gemma2b\n"
   ]
  },
  {
   "cell_type": "code",
   "execution_count": 38,
   "id": "8f411ee2-ab4d-438d-9f9d-9efce080c9fc",
   "metadata": {},
   "outputs": [],
   "source": [
    "from openai import OpenAI\n",
    "\n",
    "client = OpenAI(\n",
    "    base_url='http://localhost:11434/v1/',\n",
    "    api_key='ollama',\n",
    ")\n",
    "\n",
    "prompt = \"What's the formula for energy?\""
   ]
  },
  {
   "cell_type": "markdown",
   "id": "dab72816-b636-4b97-be19-b7d3588a1639",
   "metadata": {},
   "source": [
    "response = client.chat.completions.create(\n",
    "        model='gemma-2b',\n",
    "        messages=[{\"role\": \"user\", \"content\": prompt}],\n",
    "        temperature=0.0\n",
    ")"
   ]
  },
  {
   "cell_type": "markdown",
   "id": "bcc13423-08d4-4a52-8f6c-11da8be556dc",
   "metadata": {},
   "source": [
    "Sure, here's the formula for energy:\n",
    "\n",
    "**E = K + U**\n",
    "\n",
    "Where:\n",
    "\n",
    "* **E** is the energy in joules (J)\n",
    "* **K** is the kinetic energy in joules (J)\n",
    "* **U** is the potential energy in joules (J)\n",
    "\n",
    "**Kinetic energy (K)** is the energy an object possesses when it moves or is in motion. It is calculated as half the product of \n",
    "an object's mass (m) and its velocity (v) squared:\n",
    "\n",
    "**K = 1/2mv^2**\n",
    "\n",
    "**Potential energy (U)** is the energy an object possesses due to its position or configuration. It is calculated as the \n",
    "product of an object's mass, gravitational constant (g), and height or position above a reference point.\n",
    "\n",
    "**U = mgh**\n",
    "\n",
    "Where:\n",
    "\n",
    "* **m** is the mass in kilograms (kg)\n",
    "* **g** is the gravitational constant (9.8 m/s^2)\n",
    "* **h** is the height or position in meters (m)\n",
    "\n",
    "The formula shows that energy can be expressed as the sum of kinetic and potential energy. The kinetic energy is a measure of \n",
    "the object's ability to do work, while the potential energy is a measure of the object's ability to do work against a force."
   ]
  },
  {
   "cell_type": "code",
   "execution_count": 35,
   "id": "51711159-22b6-46c1-983e-49869ffd617b",
   "metadata": {},
   "outputs": [
    {
     "name": "stdout",
     "output_type": "stream",
     "text": [
      "Requirement already satisfied: tiktoken in /home/luiscs/projects/github/llm-bootcamp/venv/lib/python3.10/site-packages (0.7.0)\n",
      "Requirement already satisfied: requests>=2.26.0 in /home/luiscs/projects/github/llm-bootcamp/venv/lib/python3.10/site-packages (from tiktoken) (2.32.3)\n",
      "Requirement already satisfied: regex>=2022.1.18 in /home/luiscs/projects/github/llm-bootcamp/venv/lib/python3.10/site-packages (from tiktoken) (2024.5.15)\n",
      "Requirement already satisfied: charset-normalizer<4,>=2 in /home/luiscs/projects/github/llm-bootcamp/venv/lib/python3.10/site-packages (from requests>=2.26.0->tiktoken) (3.3.2)\n",
      "Requirement already satisfied: urllib3<3,>=1.21.1 in /home/luiscs/projects/github/llm-bootcamp/venv/lib/python3.10/site-packages (from requests>=2.26.0->tiktoken) (2.2.2)\n",
      "Requirement already satisfied: certifi>=2017.4.17 in /home/luiscs/projects/github/llm-bootcamp/venv/lib/python3.10/site-packages (from requests>=2.26.0->tiktoken) (2024.6.2)\n",
      "Requirement already satisfied: idna<4,>=2.5 in /home/luiscs/projects/github/llm-bootcamp/venv/lib/python3.10/site-packages (from requests>=2.26.0->tiktoken) (3.7)\n"
     ]
    }
   ],
   "source": [
    "!pip install tiktoken"
   ]
  },
  {
   "cell_type": "code",
   "execution_count": 43,
   "id": "8bc7c3a1-699c-4f72-b706-2e168f0d71f6",
   "metadata": {},
   "outputs": [
    {
     "name": "stdout",
     "output_type": "stream",
     "text": [
      "Number of tokens: 265\n"
     ]
    }
   ],
   "source": [
    "import tiktoken\n",
    "\n",
    "# Initialize the tokenizer for the 'gemma-2b' equivalent model (using the closest available OpenAI model)\n",
    "# tokenizer = tiktoken.get_encoding(\"gpt-3.5\")\n",
    "encoding_name = tiktoken.encoding_for_model(\"gpt-3.5\")\n",
    "tokenizer = tiktoken.get_encoding(encoding_name.name)\n",
    "\n",
    "# The provided text\n",
    "text = \"\"\"\n",
    "Sure, here's the formula for energy:\n",
    "\n",
    "**E = K + U**\n",
    "\n",
    "Where:\n",
    "\n",
    "* **E** is the energy in joules (J)\n",
    "* **K** is the kinetic energy in joules (J)\n",
    "* **U** is the potential energy in joules (J)\n",
    "\n",
    "**Kinetic energy (K)** is the energy an object possesses when it moves or is in motion. It is calculated as half the product of \n",
    "an object's mass (m) and its velocity (v) squared:\n",
    "\n",
    "**K = 1/2mv^2**\n",
    "\n",
    "**Potential energy (U)** is the energy an object possesses due to its position or configuration. It is calculated as the \n",
    "product of an object's mass, gravitational constant (g), and height or position above a reference point.\n",
    "\n",
    "**U = mgh**\n",
    "\n",
    "Where:\n",
    "\n",
    "* **m** is the mass in kilograms (kg)\n",
    "* **g** is the gravitational constant (9.8 m/s^2)\n",
    "* **h** is the height or position in meters (m)\n",
    "\n",
    "The formula shows that energy can be expressed as the sum of kinetic and potential energy. The kinetic energy is a measure of \n",
    "the object's ability to do work, while the potential energy is a measure of the object's ability to do work against a force.\n",
    "\"\"\"\n",
    "\n",
    "# Encode the text to get the number of tokens\n",
    "token_count = len(tokenizer.encode(text))\n",
    "print(f\"Number of tokens: {token_count}\")\n"
   ]
  },
  {
   "cell_type": "code",
   "execution_count": null,
   "id": "f7d9f226-ff42-43a4-ad53-6e255eaf2aea",
   "metadata": {},
   "outputs": [],
   "source": []
  }
 ],
 "metadata": {
  "kernelspec": {
   "display_name": "Python 3 (ipykernel)",
   "language": "python",
   "name": "python3"
  },
  "language_info": {
   "codemirror_mode": {
    "name": "ipython",
    "version": 3
   },
   "file_extension": ".py",
   "mimetype": "text/x-python",
   "name": "python",
   "nbconvert_exporter": "python",
   "pygments_lexer": "ipython3",
   "version": "3.10.12"
  }
 },
 "nbformat": 4,
 "nbformat_minor": 5
}

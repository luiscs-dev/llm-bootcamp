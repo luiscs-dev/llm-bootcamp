{
 "cells": [
  {
   "cell_type": "code",
   "execution_count": null,
   "id": "96b5b0b0-9790-48b9-bd11-89695bb24586",
   "metadata": {},
   "outputs": [],
   "source": [
    "!wget https://raw.githubusercontent.com/alexeygrigorev/minsearch/main/minsearch.py"
   ]
  },
  {
   "cell_type": "code",
   "execution_count": null,
   "id": "38e1d149-cb92-461f-b5cc-4d0c4afc5ceb",
   "metadata": {},
   "outputs": [],
   "source": [
    "import minsearch\n",
    "import json\n",
    "import requests "
   ]
  },
  {
   "cell_type": "code",
   "execution_count": null,
   "id": "ce335d2f-c241-4622-840a-c5bcefb08c43",
   "metadata": {},
   "outputs": [],
   "source": [
    "docs_url = 'https://github.com/alexeygrigorev/llm-rag-workshop/raw/main/notebooks/documents.json'\n",
    "docs_response = requests.get(docs_url)\n",
    "documents_raw = docs_response.json()\n",
    "\n",
    "documents = []\n",
    "\n",
    "for course in documents_raw:\n",
    "    course_name = course['course']\n",
    "\n",
    "    for doc in course['documents']:\n",
    "        doc['course'] = course_name\n",
    "        documents.append(doc)"
   ]
  },
  {
   "cell_type": "code",
   "execution_count": null,
   "id": "37b59f75-d46e-4ab6-aefd-eb56a8522285",
   "metadata": {},
   "outputs": [],
   "source": [
    "documents[0]"
   ]
  },
  {
   "cell_type": "code",
   "execution_count": null,
   "id": "f05baab2-d058-44b2-a2df-3c477fce7911",
   "metadata": {},
   "outputs": [],
   "source": [
    "index = minsearch.Index(\n",
    "    text_fields=['question', 'text', 'section']\n",
    "    , keyword_fields=['course']\n",
    ")"
   ]
  },
  {
   "cell_type": "code",
   "execution_count": null,
   "id": "4540dca5-e4f3-4db8-be69-563bd4f6a525",
   "metadata": {},
   "outputs": [],
   "source": [
    "index.fit(documents)"
   ]
  },
  {
   "cell_type": "code",
   "execution_count": null,
   "id": "6d914caf-fc06-4e21-a254-79999e3b766c",
   "metadata": {},
   "outputs": [],
   "source": [
    "q = 'is it possible to get a certificate if I joined later?'"
   ]
  },
  {
   "cell_type": "code",
   "execution_count": null,
   "id": "80175358-be97-47a2-a183-57042c708092",
   "metadata": {},
   "outputs": [],
   "source": [
    "boost = {\n",
    "    'question': 3.0\n",
    "}\n",
    "\n",
    "results = index.search(\n",
    "    query=q\n",
    "    , boost_dict=boost\n",
    "    , filter_dict={ 'course': 'data-engineering-zoomcamp' }\n",
    "    , num_results=5\n",
    ")"
   ]
  },
  {
   "cell_type": "code",
   "execution_count": null,
   "id": "58ffdcd4-32f3-4d87-b0ae-a809628707ab",
   "metadata": {},
   "outputs": [],
   "source": [
    "from openai import OpenAI\n"
   ]
  },
  {
   "cell_type": "code",
   "execution_count": null,
   "id": "c544c380-0923-440f-a082-9e565bc80f38",
   "metadata": {},
   "outputs": [],
   "source": [
    "client = OpenAI()"
   ]
  },
  {
   "cell_type": "code",
   "execution_count": null,
   "id": "7221ee07-07d0-4875-baa8-5a85f4245428",
   "metadata": {},
   "outputs": [],
   "source": [
    "q"
   ]
  },
  {
   "cell_type": "code",
   "execution_count": null,
   "id": "24718fcd-2dcd-4872-85f7-a4a5a9842e49",
   "metadata": {},
   "outputs": [],
   "source": [
    "response = client.chat.completitions.create(\n",
    "    model=\"gpt-4o\"\n",
    "    , messages=[{\"role\": \"user\", \"content\": q}]\n",
    ")"
   ]
  },
  {
   "cell_type": "code",
   "execution_count": null,
   "id": "df907479-f02a-41f9-82f1-8154c437e193",
   "metadata": {},
   "outputs": [],
   "source": [
    "response.choises[0].message.content"
   ]
  },
  {
   "cell_type": "code",
   "execution_count": null,
   "id": "b66ce045-57e2-4f8c-acec-ede8c123f550",
   "metadata": {},
   "outputs": [],
   "source": [
    "prompt_template = \"\"\"\n",
    "You are a course teaching assistant. Answer the QUESTION based on the CONTEXT. \n",
    "Use only the facts from the CONTEXT when answering the QUESTION.\n",
    "If the CONTEXT doesn't contain the answer, output NONE\n",
    "\n",
    "QUESTION: {question}\n",
    "\n",
    "CONTEXT:\n",
    "{context}\n",
    "\"\"\""
   ]
  },
  {
   "cell_type": "code",
   "execution_count": null,
   "id": "a2276941-8359-4f7b-8557-c69b7cd5fa86",
   "metadata": {},
   "outputs": [],
   "source": [
    "context = \"\"\n",
    "\n",
    "for doc in results:\n",
    "    context += f\"section: {doc['section']}\\nquestion: {doc['question']}\\nanswer: {doc['text']}\""
   ]
  },
  {
   "cell_type": "code",
   "execution_count": null,
   "id": "94b424bb-ac70-4296-84fb-0d7e9f7fff41",
   "metadata": {},
   "outputs": [],
   "source": [
    "print(context)"
   ]
  },
  {
   "cell_type": "code",
   "execution_count": null,
   "id": "6e56b157-67b9-4db3-b301-3800e70c7c0d",
   "metadata": {},
   "outputs": [],
   "source": [
    "prompt=prompt_template.format(question=q, context=context).strip()"
   ]
  },
  {
   "cell_type": "code",
   "execution_count": null,
   "id": "3a80bc44-dc9c-4bb5-a4d8-5cf580780b17",
   "metadata": {},
   "outputs": [],
   "source": [
    "response = client.chat.completitions.create(\n",
    "    model=\"gpt-4o\"\n",
    "    , messages=[{\"role\": \"user\", \"content\": prompt}]\n",
    ")"
   ]
  },
  {
   "cell_type": "code",
   "execution_count": null,
   "id": "573a6697-b6da-4f66-80e5-f6607565fc38",
   "metadata": {},
   "outputs": [],
   "source": []
  }
 ],
 "metadata": {
  "kernelspec": {
   "display_name": "Python 3 (ipykernel)",
   "language": "python",
   "name": "python3"
  },
  "language_info": {
   "codemirror_mode": {
    "name": "ipython",
    "version": 3
   },
   "file_extension": ".py",
   "mimetype": "text/x-python",
   "name": "python",
   "nbconvert_exporter": "python",
   "pygments_lexer": "ipython3",
   "version": "3.10.12"
  }
 },
 "nbformat": 4,
 "nbformat_minor": 5
}
